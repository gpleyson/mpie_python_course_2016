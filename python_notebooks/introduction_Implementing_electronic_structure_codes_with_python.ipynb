{
 "cells": [
  {
   "cell_type": "markdown",
   "metadata": {},
   "source": [
    "### Compact Course\n",
    "## Implementing electronic structure codes\n",
    "Prof. Dr. Jörg Neugebauer (MPI für Eisenforschung)"
   ]
  },
  {
   "cell_type": "markdown",
   "metadata": {},
   "source": [
    "#### Objectives:\n",
    "\n",
    "Solve the Schrödinger equation $\\boldsymbol{\\hat{H}} \\rvert\\psi\\rangle = E \\rvert\\psi\\rangle$ \n",
    "with $\\boldsymbol{\\hat{H}} = -\\frac{1}{2}\\lambda \\rvert x\\rangle \\langle x\\rvert + V(x)$\n",
    "for an abrbitrary potential $V(x)$ and on an equidistant mesh $x_i=i\\lambda x$.\n",
    "\n",
    "#### Remarks:\n",
    "\n",
    "Use/introduce the following variables:\n",
    "\n",
    "    xLength  # length of the 1D region, i.e., V(x) = V(x + xLength)\n",
    "    nmesh     # number of mesh points\n",
    "    dx = xLength/nmesh  # distance between two mesh points"
   ]
  },
  {
   "cell_type": "markdown",
   "metadata": {},
   "source": [
    "#### Useful python modules"
   ]
  },
  {
   "cell_type": "code",
   "execution_count": 1,
   "metadata": {
    "collapsed": false
   },
   "outputs": [],
   "source": [
    "import numpy as np\n",
    "import numpy.linalg as lg\n",
    "import matplotlib.pyplot as plt\n",
    "\n",
    "%matplotlib inline"
   ]
  },
  {
   "cell_type": "markdown",
   "metadata": {},
   "source": [
    "#### Useful commands\n",
    "\n",
    "    np.linspace                # create an equidistant mesh \n",
    "    np.roll                    # rotate vector/matrix including boundary conditions\n",
    "    plt.plot(xList, yList)     # plot xList verus yList\n",
    "    plt.title('String')        # add title to the plot\n",
    "    plt.show()                 # show figures (not needed in Jupyter)"
   ]
  },
  {
   "cell_type": "code",
   "execution_count": 2,
   "metadata": {
    "collapsed": false
   },
   "outputs": [
    {
     "name": "stdout",
     "output_type": "stream",
     "text": [
      "[ 0.   0.5  1.   1.5  2.   2.5  3.   3.5  4.   4.5  5. ]\n"
     ]
    }
   ],
   "source": [
    "# np.linspace - create an equidistant mesh\n",
    "xvar = np.linspace(0., 5., num=11)\n",
    "print(xvar)"
   ]
  },
  {
   "cell_type": "code",
   "execution_count": 3,
   "metadata": {
    "collapsed": false
   },
   "outputs": [
    {
     "name": "stdout",
     "output_type": "stream",
     "text": [
      "Original matrix, M\n",
      "[[ 8.  1.  6.]\n",
      " [ 3.  5.  7.]\n",
      " [ 4.  9.  2.]]\n",
      "np.roll(M, 1, axis=0)\n",
      "[[ 4.  9.  2.]\n",
      " [ 8.  1.  6.]\n",
      " [ 3.  5.  7.]]\n",
      "np.roll(M, 1, axis=1)\n",
      "[[ 6.  8.  1.]\n",
      " [ 7.  3.  5.]\n",
      " [ 2.  4.  9.]]\n"
     ]
    }
   ],
   "source": [
    "# np.roll - rotate vector/matrix, including periodic boundary conditions\n",
    "M = np.array([[8., 1., 6.],\n",
    "              [3., 5., 7.],\n",
    "              [4., 9., 2.]])\n",
    "print('Original matrix, M')\n",
    "print(M)\n",
    "print('np.roll(M, 1, axis=0)')\n",
    "print(np.roll(M, 1, axis=0))\n",
    "print('np.roll(M, 1, axis=1)')\n",
    "print(np.roll(M, 1, axis=1))"
   ]
  },
  {
   "cell_type": "code",
   "execution_count": 23,
   "metadata": {
    "collapsed": false
   },
   "outputs": [
    {
     "data": {
      "text/plain": [
       "<matplotlib.text.Text at 0x106cb7a90>"
      ]
     },
     "execution_count": 23,
     "metadata": {},
     "output_type": "execute_result"
    },
    {
     "data": {
      "image/png": "[encoded data removed]",
      "text/plain": [
       "<matplotlib.figure.Figure at 0x106b31a90>"
      ]
     },
     "metadata": {},
     "output_type": "display_data"
    }
   ],
   "source": [
    "# Basic plotting in python\n",
    "xList = np.linspace(0., 4.*np.pi, 101)\n",
    "yList = np.cos(xList)\n",
    "plt.plot(xList, yList)\n",
    "plt.title('Plot title')"
   ]
  },
  {
   "cell_type": "code",
   "execution_count": 49,
   "metadata": {
    "collapsed": false
   },
   "outputs": [
    {
     "data": {
      "text/plain": [
       "(-1.5, 1.5)"
      ]
     },
     "execution_count": 49,
     "metadata": {},
     "output_type": "execute_result"
    },
    {
     "data": {
      "image/png": "[encoded data removed]",
      "text/plain": [
       "<matplotlib.figure.Figure at 0x108341b50>"
      ]
     },
     "metadata": {},
     "output_type": "display_data"
    }
   ],
   "source": [
    "# Intermediate plotting in python with formating\n",
    "xList2 = np.linspace(0., 4.*np.pi, 11)\n",
    "yList2 = np.cos(xList2)\n",
    "\n",
    "fig = plt.figure(1, figsize=(6,4))\n",
    "fig.clf()\n",
    "ax = fig.add_subplot(111)\n",
    "ax.plot(xList, yList, '-k', linewidth=1.5)\n",
    "ax.plot(xList2, yList2, 'ok', markerfacecolor='w', \n",
    "        markersize=8, markeredgewidth=1.5)\n",
    "ax.set_xlabel('x-axis label', fontsize=10.)\n",
    "ax.set_ylabel('y-axis label', fontsize=10.)\n",
    "ax.set_title('Figure title', fontsize=14.)\n",
    "ax.set_xlim([0., 4.*np.pi])\n",
    "ax.set_ylim([-1.5, 1.5])"
   ]
  }
 ],
 "metadata": {
  "kernelspec": {
   "display_name": "Python 2",
   "language": "python",
   "name": "python2"
  },
  "language_info": {
   "codemirror_mode": {
    "name": "ipython",
    "version": 2
   },
   "file_extension": ".py",
   "mimetype": "text/x-python",
   "name": "python",
   "nbconvert_exporter": "python",
   "pygments_lexer": "ipython2",
   "version": "2.7.11"
  }
 },
 "nbformat": 4,
 "nbformat_minor": 0
}
