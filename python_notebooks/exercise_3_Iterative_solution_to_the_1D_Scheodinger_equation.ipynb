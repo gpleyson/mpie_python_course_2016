{
 "cells": [
  {
   "cell_type": "markdown",
   "metadata": {},
   "source": [
    "## Exercise 3: Iterative solution to the 1D Schödinger equation\n",
    "**Key idea**: Avoid constructing the full Hamiltonian matrix (which is an $N\\times N$ matrix) and a full diagonalization, which scales like $O(N^3)$ .  Rather, design an algorithm which is computationally much more efficient."
   ]
  },
  {
   "cell_type": "code",
   "execution_count": 1,
   "metadata": {
    "collapsed": true
   },
   "outputs": [],
   "source": [
    "# import modules\n"
   ]
  },
  {
   "cell_type": "code",
   "execution_count": 2,
   "metadata": {
    "collapsed": false
   },
   "outputs": [],
   "source": []
  },
  {
   "cell_type": "markdown",
   "metadata": {},
   "source": [
    "### (1) Rewrite the Schrödinger equation for an arbitrary wavefunction $\\psi^\\text{trial}$\n",
    "$$ \n",
    "    \\rvert\\Delta\\psi^\\text{res}\\rangle \n",
    "    = \\left(\\boldsymbol{\\hat{H}} - \\hat{\\mathbb{1}}E^\\text{trial}\\right) \n",
    "    \\rvert\\psi^\\text{trial}\\rangle \n",
    "$$\n",
    "### with\n",
    "\n",
    "$$ \n",
    "    E^\\text{trial} = \\langle\\psi^\\text{trial}\\rvert \n",
    "                     \\boldsymbol{\\hat{H}}\n",
    "                     \\rvert\\psi^\\text{trial}\\rangle\n",
    "$$\n",
    "\n",
    "#### Gerard's note:  I find the phrasing of this task a bit confusing.  I am pruposing the following rephrasing of the task:\n",
    "### (1) Write down the expected value of the energy of an abritrary trial wavefunction $\\rvert\\psi^\\text{trial}\\rangle$.   Use the Schrödinger equation to find the residual wavefunction $\\rvert\\Delta\\psi^\\text{res}\\rangle$. Implement methods for calculating $E^\\text{trial}$ and $\\rvert\\Delta\\psi^\\text{res}\\rangle$."
   ]
  },
  {
   "cell_type": "code",
   "execution_count": null,
   "metadata": {
    "collapsed": true
   },
   "outputs": [],
   "source": []
  },
  {
   "cell_type": "markdown",
   "metadata": {},
   "source": [
    "### (2) Split the Hamiltonian into kinetic and potential energy contributions.  Implement in a class method for the Laplace operator you used in Exercise 1 (using np.roll).  Test the implementation for a known analytic function.\n",
    "\n",
    "##### Gerard's note:  I rephrased task (2), since we have done this implementation in Exercise 1.  I have also combined questions (2) and (3) since it makes sense to merge these two tasks.  Also, would it be better to give this task before the one above, so the students would have the Hamiltonian implemented before calculating the residuals?  This way, they can test their methods and see what the residual looks like for a given potential and trial wavefunction."
   ]
  },
  {
   "cell_type": "code",
   "execution_count": null,
   "metadata": {
    "collapsed": true
   },
   "outputs": [],
   "source": []
  },
  {
   "cell_type": "markdown",
   "metadata": {},
   "source": [
    "### (3) Verify your implementation of 3.1 by comparing the residuum with the one you obtain when using the full Hamiltonian matrixd from Exercise 2."
   ]
  },
  {
   "cell_type": "code",
   "execution_count": null,
   "metadata": {
    "collapsed": true
   },
   "outputs": [],
   "source": []
  },
  {
   "cell_type": "markdown",
   "metadata": {},
   "source": [
    "### (4) Implement the following approach to iteratively improve the wavefunction (with $\\alpha$ a suitably chosen scalar):\n",
    "$$\n",
    "\\rvert\\psi^\\text{n+1}\\rangle = \\rvert\\psi^\\text{n}\\rangle + \n",
    "\\alpha \\rvert\\Delta\\psi^\\text{n, res}\\rangle.\n",
    "$$"
   ]
  },
  {
   "cell_type": "code",
   "execution_count": null,
   "metadata": {
    "collapsed": true
   },
   "outputs": [],
   "source": []
  },
  {
   "cell_type": "markdown",
   "metadata": {},
   "source": [
    "### (5) Normalize the wavefunction $\\rvert\\psi^\\text{n+1}\\rangle$:\n",
    "$$\n",
    "\\rvert\\psi^\\text{n+1}\\rangle = \\frac{\\rvert\\psi^\\text{n+1}\\rangle}\n",
    "{\\sqrt{\\langle\\psi^\\text{n+1}\\rvert\\psi^\\text{n+1}\\rangle}}\n",
    "$$"
   ]
  },
  {
   "cell_type": "code",
   "execution_count": null,
   "metadata": {
    "collapsed": true
   },
   "outputs": [],
   "source": []
  },
  {
   "cell_type": "markdown",
   "metadata": {},
   "source": [
    "### (6) Implement a method to construct an initial trial wavefunction (e.g. a constant or random numbers).  Run this trial through the iterative approach described above and monitor the convergence by plotting the energy\n",
    "$$ \n",
    "    E^n = \\langle\\psi^n\\rvert \n",
    "          \\boldsymbol{\\hat{H}}\n",
    "          \\rvert\\psi^n\\rangle.\n",
    "$$\n",
    "\n",
    "### Optimize $\\alpha$ to achieve a stable and fast convergence.\n",
    "\n",
    "#### Gerard's note: I combined tasks (7)-(9)."
   ]
  },
  {
   "cell_type": "code",
   "execution_count": null,
   "metadata": {
    "collapsed": true
   },
   "outputs": [],
   "source": []
  },
  {
   "cell_type": "markdown",
   "metadata": {},
   "source": [
    "### (7) Extend the above algorithm to excited states by projecting out the lower lying states using the Gram-Schmidt orthogonalization when performing step (4).  Compare the results with task (2)."
   ]
  },
  {
   "cell_type": "code",
   "execution_count": null,
   "metadata": {
    "collapsed": true
   },
   "outputs": [],
   "source": []
  },
  {
   "cell_type": "markdown",
   "metadata": {},
   "source": [
    "## ADVANCED QUESTIONS/TASKS"
   ]
  },
  {
   "cell_type": "markdown",
   "metadata": {},
   "source": [
    "### (8) Measure and compare the timing of the approach between the direct and the iterative approach."
   ]
  },
  {
   "cell_type": "code",
   "execution_count": null,
   "metadata": {
    "collapsed": true
   },
   "outputs": [],
   "source": []
  }
 ],
 "metadata": {
  "kernelspec": {
   "display_name": "Python 2",
   "language": "python",
   "name": "python2"
  },
  "language_info": {
   "codemirror_mode": {
    "name": "ipython",
    "version": 2
   },
   "file_extension": ".py",
   "mimetype": "text/x-python",
   "name": "python",
   "nbconvert_exporter": "python",
   "pygments_lexer": "ipython2",
   "version": "2.7.11"
  }
 },
 "nbformat": 4,
 "nbformat_minor": 0
}
