{
 "cells": [
  {
   "cell_type": "markdown",
   "metadata": {},
   "source": [
    "## Solution 3: Iterative solution to the 1D Schrödinger equation\n",
    "**Key idea**: Avoid constructing the full Hamiltonian matrix (which is an $N\\times N$ matrix) and a full diagonalization, which scales like $O(N^3)$ .  Rather, design an algorithm which is computationally much more efficient."
   ]
  },
  {
   "cell_type": "code",
   "execution_count": 6,
   "metadata": {
    "collapsed": true
   },
   "outputs": [],
   "source": [
    "# import modules\n",
    "import numpy as np\n",
    "import numpy.linalg as lg\n",
    "import matplotlib.pyplot as plt\n",
    "import sys\n",
    "import time\n",
    "\n",
    "%matplotlib inline"
   ]
  },
  {
   "cell_type": "code",
   "execution_count": 60,
   "metadata": {
    "collapsed": false
   },
   "outputs": [],
   "source": [
    "class schroedinger_1d(object):\n",
    "    def __init__(self, nmesh=100, xLength=10., natoms=1, Vscale=20., \n",
    "                 alpha=0.095, init_method='const', pot_type='square'):\n",
    "        self.nmesh = nmesh\n",
    "        self.xLength = xLength\n",
    "        self.natoms = natoms\n",
    "        self.alpha = alpha\n",
    "        self.Vscale = Vscale\n",
    "        self.mesh, self.dx = np.linspace(0., self.xLength, self.nmesh, \n",
    "                                         endpoint=False, retstep=True)\n",
    "        self.pot_type = pot_type\n",
    "        self.init_method = init_method\n",
    "        self.psi_list = []\n",
    "        self.energy_list = []\n",
    "        \n",
    "    def initialize_psi(self):\n",
    "        if self.init_method=='random':\n",
    "            psi = self.normalize(np.random.rand(self.mesh.size))\n",
    "            return psi\n",
    "        if self.init_method=='const':\n",
    "            psi = self.normalize(np.ones(self.mesh.size))\n",
    "            return psi\n",
    "        \n",
    "    def get_potential(self):\n",
    "        if self.pot_type == 'square':\n",
    "            potential = np.zeros(self.nmesh)\n",
    "            x1 = 0.2 * xLength\n",
    "            x2 = 0.8 * xLength\n",
    "            potential[(self.mesh>x1) & (self.mesh<x2)] = -self.Vscale\n",
    "            \n",
    "            return potential\n",
    "        \n",
    "        elif self.pot_type == 'sinusoidal':\n",
    "            return self.Vscale*(np.cos(2*np.pi*self.mesh/(self.xLength/self.natoms)) - 1.)/2.\n",
    "    \n",
    "    def get_laplacian(self, psi):\n",
    "        return (np.roll(psi, 1) - 2.0*psi + np.roll(psi, -1))/(self.dx ** 2)\n",
    "        \n",
    "    def get_hamiltonian(self, psi):\n",
    "        return -0.5 * self.get_laplacian(psi)+self.get_potential()*psi\n",
    "    \n",
    "    def get_energy(self, psi):\n",
    "        return np.dot(psi,self.get_hamiltonian(psi))\n",
    "    \n",
    "    def get_residual(self, psi):\n",
    "        return self.orthogonalize(self.get_hamiltonian(psi) - \n",
    "                                  self.get_energy(psi)*psi)\n",
    "    \n",
    "    def get_next_psi(self, psi):\n",
    "        residual = self.get_residual(psi)\n",
    "        newpsi = self.orthogonalize(psi - self.alpha*residual)\n",
    "        return self.normalize(newpsi), residual\n",
    "        \n",
    "    def get_state(self, max_steps=100000, max_error=1e-10):\n",
    "        psi=self.initialize_psi()\n",
    "        intermed_energy = []\n",
    "        for ii in xrange(max_steps):\n",
    "            psi, residual = self.get_next_psi(psi)\n",
    "            energy = self.get_energy(psi)\n",
    "            intermed_energy.append(energy)\n",
    "            if lg.norm(residual) <= max_error:\n",
    "                print('reached convergence at step {}, error={:e}'.format(ii, lg.norm(residual)))\n",
    "                return psi, energy, intermed_energy\n",
    "            \n",
    "        print('Failed to reach convergence. Error = {:e}'.format(lg.norm(residual)))\n",
    "        return psi, energy, intermed_energy\n",
    "        \n",
    "    def orthogonalize(self, psi):\n",
    "        for psi_j in self.psi_list:\n",
    "            psi -= np.dot(psi, psi_j)*psi_j\n",
    "        return psi\n",
    "        \n",
    "    def normalize(self, psi):\n",
    "        return psi / lg.norm(psi)\n",
    "    \n",
    "    def get_nstates(self, nstates=1, max_steps=100000, max_error=1e-10):\n",
    "        self.psi = []\n",
    "        self.energy_list = []\n",
    "        self.intermed_energy_list = []\n",
    "        for ii in xrange(nstates):\n",
    "            psi, energy, intermed_energy = self.get_state(max_steps=max_steps,\n",
    "                                                          max_error=max_error)\n",
    "            self.psi_list.append(psi)\n",
    "            self.energy_list.append(energy)\n",
    "            self.intermed_energy_list.append(intermed_energy)\n",
    "        return"
   ]
  },
  {
   "cell_type": "markdown",
   "metadata": {},
   "source": [
    "### (1) Rewrite the Schrödinger equation for an arbitrary wavefunction $\\psi^\\text{trial}$\n",
    "$$ \n",
    "    \\rvert\\Delta\\psi^\\text{res}\\rangle \n",
    "    = \\left(\\boldsymbol{\\hat{H}} - \\hat{\\mathbb{1}}E^\\text{trial}\\right) \n",
    "    \\rvert\\psi^\\text{trial}\\rangle \n",
    "$$\n",
    "### with\n",
    "\n",
    "$$ \n",
    "    E^\\text{trial} = \\langle\\psi^\\text{trial}\\rvert \n",
    "                     \\boldsymbol{\\hat{H}}\n",
    "                     \\rvert\\psi^\\text{trial}\\rangle\n",
    "$$\n",
    "\n",
    "#### Gerard's note:  I find the phrasing of this task a bit confusing.  I am pruposing the following rephrasing of the task:\n",
    "### (1) Write down the expected value of the energy of an abritrary trial wavefunction $\\rvert\\psi^\\text{trial}\\rangle$.   Use the Schrödinger equation to find the residual wavefunction $\\rvert\\Delta\\psi^\\text{res}\\rangle$. Implement methods for calculating $E^\\text{trial}$ and $\\rvert\\Delta\\psi^\\text{res}\\rangle$."
   ]
  },
  {
   "cell_type": "code",
   "execution_count": null,
   "metadata": {
    "collapsed": true
   },
   "outputs": [],
   "source": []
  },
  {
   "cell_type": "markdown",
   "metadata": {},
   "source": [
    "### (2) Split the Hamiltonian into kinetic and potential energy contributions.  Implement in a class method for the Laplace operator you used in Exercise 1 (using np.roll).  Test the implementation for a known analytic function.\n",
    "\n",
    "##### Gerard's note:  I rephrased task (2), since we have done this implementation in Exercise 1.  I have also combined questions (2) and (3) since it makes sense to merge these two tasks.  Also, would it be better to give this task before the one above, so the students would have the Hamiltonian implemented before calculating the residuals?  This way, they can test their methods and see what the residual looks like for a given potential and trial wavefunction."
   ]
  },
  {
   "cell_type": "code",
   "execution_count": 21,
   "metadata": {
    "collapsed": false
   },
   "outputs": [
    {
     "data": {
      "text/plain": [
       "[<matplotlib.lines.Line2D at 0x1050f6090>]"
      ]
     },
     "execution_count": 21,
     "metadata": {},
     "output_type": "execute_result"
    },
    {
     "data": {
      "image/png": "[encoded data removed]",
      "text/plain": [
       "<matplotlib.figure.Figure at 0x106d58650>"
      ]
     },
     "metadata": {},
     "output_type": "display_data"
    }
   ],
   "source": [
    "ham = schroedinger_1d(natoms=1, nmesh=1000)\n",
    "period = ham.xLength / ham.natoms / 3.\n",
    "psi = np.cos(2.*np.pi*ham.mesh/period)\n",
    "\n",
    "psi_pp_numeric = ham.get_laplacian(psi)\n",
    "psi_pp_exact = -(2.*np.pi/period)**2. * \\\n",
    "        np.cos(2.*np.pi*ham.mesh/period)\n",
    "\n",
    "plt.figure()\n",
    "plt.plot(ham.mesh, psi_pp_exact, '-r', lw=5, alpha=0.3)\n",
    "plt.plot(ham.mesh, psi_pp_numeric, '-k')"
   ]
  },
  {
   "cell_type": "markdown",
   "metadata": {},
   "source": [
    "### (3) Verify your implementation of 3.1 by comparing the residuum with the one you obtain when using the full Hamiltonian matrixd from Exercise 2."
   ]
  },
  {
   "cell_type": "code",
   "execution_count": 31,
   "metadata": {
    "collapsed": false
   },
   "outputs": [],
   "source": [
    "# Copy exercise 2 into a funtion\n",
    "def exercise2(fxn_pot, nmesh=100, xLength=10.):\n",
    "    # define grid\n",
    "    xvar, dx = np.linspace(0, xLength, nmesh, \n",
    "                           endpoint=False, retstep=True)\n",
    "\n",
    "    # define Laplacian\n",
    "    Imat = np.identity(nmesh)\n",
    "    laplace = (np.roll(Imat, 1, axis=0) - 2*Imat + np.roll(Imat, -1, axis=0))/dx**2\n",
    "\n",
    "    # define potential\n",
    "    potential = np.eye(nmesh) * fxn_pot\n",
    "\n",
    "    # define Hamiltonian\n",
    "    hamiltonian = -laplace/2. + potential\n",
    "\n",
    "    # get eigenvalues and eigenvectors\n",
    "    eigval, eigvec = lg.eigh(hamiltonian)\n",
    "    \n",
    "    return eigval, eigvec.T"
   ]
  },
  {
   "cell_type": "code",
   "execution_count": 34,
   "metadata": {
    "collapsed": false
   },
   "outputs": [
    {
     "name": "stdout",
     "output_type": "stream",
     "text": [
      "Max error = 4.067668e-13, Min error = 5.577659e-14\n"
     ]
    }
   ],
   "source": [
    "# define parameters\n",
    "nmesh = 100\n",
    "xLength = 10.\n",
    "natoms = 2\n",
    "Vscale = 20\n",
    "pot_type = 'square'\n",
    "\n",
    "# calculate residuals\n",
    "ham = schroedinger_1d(nmesh=nmesh, xLength=xLength, natoms=natoms, \n",
    "                     Vscale=Vscale, pot_type=pot_type)\n",
    "\n",
    "# calculate eigenvalues and eigenvectors\n",
    "eigval, eigvec = exercise2(fxn_pot=ham.get_potential(), nmesh=nmesh, \n",
    "                           xLength=xLength)\n",
    "\n",
    "error_list = []\n",
    "\n",
    "for psi in eigvec:\n",
    "    psi_res = ham.get_residual(psi)\n",
    "    error = lg.norm(psi_res)\n",
    "    error_list.append(error)\n",
    "    \n",
    "print('Max error = {:e}, Min error = {:e}'.format(max(error_list), min(error_list)))"
   ]
  },
  {
   "cell_type": "markdown",
   "metadata": {},
   "source": [
    "### (4) Implement the following approach to iteratively improve the wavefunction (with $\\alpha$ a suitably chosen scalar):\n",
    "$$\n",
    "\\rvert\\psi^\\text{n+1}\\rangle = \\rvert\\psi^\\text{n}\\rangle + \n",
    "\\alpha \\rvert\\Delta\\psi^\\text{n, res}\\rangle.\n",
    "$$"
   ]
  },
  {
   "cell_type": "markdown",
   "metadata": {},
   "source": [
    "See `get_state` method above."
   ]
  },
  {
   "cell_type": "markdown",
   "metadata": {},
   "source": [
    "### (5) Normalize the wavefunction $\\rvert\\psi^\\text{n+1}\\rangle$:\n",
    "$$\n",
    "\\rvert\\psi^\\text{n+1}\\rangle = \\frac{\\rvert\\psi^\\text{n+1}\\rangle}\n",
    "{\\sqrt{\\langle\\psi^\\text{n+1}\\rvert\\psi^\\text{n+1}\\rangle}}\n",
    "$$"
   ]
  },
  {
   "cell_type": "markdown",
   "metadata": {},
   "source": [
    "Seee `normalize_psi` method above."
   ]
  },
  {
   "cell_type": "markdown",
   "metadata": {},
   "source": [
    "### (6) Implement a method to construct an initial trial wavefunction (e.g. a constant or random numbers).  Run this trial through the iterative approach described above and monitor the convergence by plotting the energy\n",
    "$$ \n",
    "    E^n = \\langle\\psi^n\\rvert \n",
    "          \\boldsymbol{\\hat{H}}\n",
    "          \\rvert\\psi^n\\rangle.\n",
    "$$\n",
    "\n",
    "### Optimize $\\alpha$ to achieve a stable and fast convergence.\n",
    "\n",
    "#### Gerard's note: I combined tasks (7)-(9)."
   ]
  },
  {
   "cell_type": "code",
   "execution_count": 36,
   "metadata": {
    "collapsed": false
   },
   "outputs": [
    {
     "name": "stdout",
     "output_type": "stream",
     "text": [
      "reached convergence at step 1141, error=9.989342e-06\n"
     ]
    },
    {
     "data": {
      "text/plain": [
       "<matplotlib.text.Text at 0x106ca4050>"
      ]
     },
     "execution_count": 36,
     "metadata": {},
     "output_type": "execute_result"
    },
    {
     "data": {
      "image/png": "[encoded data removed]",
      "text/plain": [
       "<matplotlib.figure.Figure at 0x107b80790>"
      ]
     },
     "metadata": {},
     "output_type": "display_data"
    }
   ],
   "source": [
    "ham = schroedinger_1d(nmesh=nmesh, xLength=xLength, natoms=natoms, Vscale=Vscale, alpha=0.009)\n",
    "ham.get_nstates(nstates=1, max_steps=100000, max_error=1e-5)\n",
    "\n",
    "plt.figure()\n",
    "for energies in ham.intermed_energy_list:\n",
    "    plt.plot(np.arange(len(energies))+1, energies, '-k')\n",
    "plt.xlabel('Iteration')\n",
    "plt.ylabel('Energy')"
   ]
  },
  {
   "cell_type": "code",
   "execution_count": 37,
   "metadata": {
    "collapsed": false
   },
   "outputs": [
    {
     "name": "stdout",
     "output_type": "stream",
     "text": [
      "reached convergence at step 10307, error=9.999937e-06\n",
      "reached convergence at step 6993, error=9.991947e-06\n",
      "reached convergence at step 5291, error=9.988229e-06\n",
      "reached convergence at step 4255, error=9.984514e-06\n",
      "reached convergence at step 3558, error=9.982402e-06\n",
      "reached convergence at step 3057, error=9.981359e-06\n",
      "reached convergence at step 2680, error=9.962198e-06\n",
      "reached convergence at step 2385, error=9.976081e-06\n",
      "reached convergence at step 2149, error=9.958524e-06\n",
      "reached convergence at step 1955, error=9.966549e-06\n",
      "reached convergence at step 1793, error=9.976723e-06\n",
      "reached convergence at step 1656, error=9.968761e-06\n",
      "reached convergence at step 1538, error=9.989104e-06\n",
      "reached convergence at step 1436, error=9.981672e-06\n",
      "reached convergence at step 1347, error=9.948106e-06\n",
      "reached convergence at step 1268, error=9.947623e-06\n",
      "reached convergence at step 1198, error=9.923190e-06\n",
      "reached convergence at step 1135, error=9.928666e-06\n",
      "Failed to reach convergence. Error = 3.223725e+01\n",
      "Failed to reach convergence. Error = 4.537003e+01\n"
     ]
    }
   ],
   "source": [
    "# define range of alpha to be explored\n",
    "alpha_array = np.linspace(0.001, 0.01, 20)\n",
    "execution_time = []\n",
    "\n",
    "# creaate class instance\n",
    "for alpha in alpha_array:\n",
    "    time_start = time.time()\n",
    "    ham = schroedinger_1d(nmesh=nmesh, xLength=xLength, natoms=natoms, Vscale=Vscale, alpha=alpha)\n",
    "    ham.get_nstates(nstates=1, max_steps=100000, max_error=1e-5)\n",
    "    execution_time.append(time.time()-time_start)"
   ]
  },
  {
   "cell_type": "code",
   "execution_count": 41,
   "metadata": {
    "collapsed": false
   },
   "outputs": [
    {
     "data": {
      "text/plain": [
       "<matplotlib.text.Text at 0x108a95690>"
      ]
     },
     "execution_count": 41,
     "metadata": {},
     "output_type": "execute_result"
    },
    {
     "data": {
      "image/png": "[encoded data removed]",
      "text/plain": [
       "<matplotlib.figure.Figure at 0x108a83890>"
      ]
     },
     "metadata": {},
     "output_type": "display_data"
    }
   ],
   "source": [
    "plt.figure()\n",
    "plt.plot(alpha_array, execution_time, '-ko')\n",
    "plt.ylim([0.03, 1.])\n",
    "plt.xlabel('alpha')\n",
    "plt.ylabel('time (s)')"
   ]
  },
  {
   "cell_type": "markdown",
   "metadata": {},
   "source": [
    "### (7) Extend the above algorithm to excited states by projecting out the lower lying states using the Gram-Schmidt orthogonalization when performing step (4).  Compare the results with task (2)."
   ]
  },
  {
   "cell_type": "code",
   "execution_count": 59,
   "metadata": {
    "collapsed": false
   },
   "outputs": [
    {
     "name": "stdout",
     "output_type": "stream",
     "text": [
      "reached convergence at step 1141, error=9.989342e-06\n",
      "reached convergence at step 645, error=9.826428e-06\n",
      "reached convergence at step 456, error=9.976994e-06\n",
      "reached convergence at step 790, error=9.898783e-06\n",
      "reached convergence at step 360, error=9.837817e-06\n",
      "reached convergence at step 439, error=9.428598e-06\n",
      "const\n"
     ]
    }
   ],
   "source": [
    "alpha = 0.009\n",
    "nstates = 6\n",
    "ham = schroedinger_1d(nmesh=nmesh, xLength=xLength, natoms=natoms, Vscale=Vscale, \n",
    "                     alpha=alpha, pot_type='square')\n",
    "ham.get_nstates(nstates=nstates, max_steps=100000, max_error=1e-5)"
   ]
  },
  {
   "cell_type": "code",
   "execution_count": 58,
   "metadata": {
    "collapsed": false
   },
   "outputs": [
    {
     "data": {
      "text/plain": [
       "<matplotlib.legend.Legend at 0x10bb1fcd0>"
      ]
     },
     "execution_count": 58,
     "metadata": {},
     "output_type": "execute_result"
    },
    {
     "data": {
      "image/png": "[encoded data removed]",
      "text/plain": [
       "<matplotlib.figure.Figure at 0x10aeabd10>"
      ]
     },
     "metadata": {},
     "output_type": "display_data"
    }
   ],
   "source": [
    "plt.figure(figsize=(10, 6))\n",
    "scale = 2\n",
    "padding = 2.5\n",
    "\n",
    "ymin = -ham.Vscale - 0.2\n",
    "ymax = -16.\n",
    "\n",
    "plt.plot(ham.mesh, ham.get_potential(), '-k', lw=3, alpha=0.3)\n",
    "for ii in xrange(nstates):\n",
    "    eigvec = ham.psi_list[ii]\n",
    "    eigval = ham.energy_list[ii]\n",
    "    plt.plot(ham.mesh, scale*eigvec + eigval*np.ones(ham.nmesh),\n",
    "            lw=1.5, alpha=0.7, label='state '+str(ii+1))\n",
    "    plt.plot(ham.mesh, eigval*np.ones(ham.nmesh), '--b', lw=1.)\n",
    "\n",
    "plt.plot(np.ones(2)*(ham.xLength-ham.dx), [ymin, ymax], 'k')\n",
    "    \n",
    "plt.xlim([0, ham.xLength + padding])\n",
    "plt.ylim([ymin, ymax])\n",
    "plt.legend(loc=1)"
   ]
  },
  {
   "cell_type": "markdown",
   "metadata": {
    "collapsed": true
   },
   "source": [
    "## ADVANCED QUESTIONS/TASKS"
   ]
  },
  {
   "cell_type": "markdown",
   "metadata": {},
   "source": [
    "### (8) Measure and compare the timing of the approach between the direct and the iterative approach."
   ]
  },
  {
   "cell_type": "code",
   "execution_count": null,
   "metadata": {
    "collapsed": true
   },
   "outputs": [],
   "source": []
  }
 ],
 "metadata": {
  "kernelspec": {
   "display_name": "Python 2",
   "language": "python",
   "name": "python2"
  },
  "language_info": {
   "codemirror_mode": {
    "name": "ipython",
    "version": 2
   },
   "file_extension": ".py",
   "mimetype": "text/x-python",
   "name": "python",
   "nbconvert_exporter": "python",
   "pygments_lexer": "ipython2",
   "version": "2.7.11"
  }
 },
 "nbformat": 4,
 "nbformat_minor": 0
}
